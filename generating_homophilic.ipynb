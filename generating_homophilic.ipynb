{
 "cells": [
  {
   "cell_type": "markdown",
   "metadata": {},
   "source": [
    "[Home](home.ipynb) > Generative Models > Generalized Barabási–Albert Model"
   ]
  },
  {
   "cell_type": "markdown",
   "metadata": {},
   "source": [
    "<img style='float: left;' src='https://www.gesis.org/fileadmin/styles/img/gs_home_logo_en.svg'>"
   ]
  },
  {
   "cell_type": "markdown",
   "metadata": {},
   "source": [
    "### *Notebooks for Computational Sociology*"
   ]
  },
  {
   "cell_type": "markdown",
   "metadata": {},
   "source": [
    "# Generalized Barabási–Albert Model: Generating random networks with different degree distributions\n",
    "Author: [Haiko Lietz](https://www.gesis.org/person/haiko.lietz)\n",
    "\n",
    "Version: 0.9 (17.07.2019)\n",
    "\n",
    "Please cite as: Lietz, Haiko (2019). Generalized Barabási–Albert Model: Generating random networks with different degree distributions. Version 0.9 (17.07.2019). *Notebooks for Computational Sociology*. GESIS. url:xxx"
   ]
  },
  {
   "cell_type": "markdown",
   "metadata": {},
   "source": [
    "<div class=\"alert alert-info\">\n",
    "<big><b>Significance</b></big>\n",
    "\n",
    "The Barabási–Albert Model is a very simple but fundamental algorithm that generates random networks where the number of neighbors per node can be very heterogeneous. Existing nodes attract new edges with a cumulative advantage. This rich-get-richer mechanism resembles the Matthew Effect. The generalized model allows for tuning the extent to which cumulative advantage is effective and for specifying the intrinsic attractiveness (fitness) of nodes. The generative model is minimal and can be applied to explain inequality in complex systems.\n",
    "</div>"
   ]
  },
  {
   "cell_type": "markdown",
   "metadata": {},
   "source": [
    "## Introduction\n",
    "Network generators consist of simple mechanisms or rules how nodes or links are to be attached to an initial network. One of the most basic mechanisms involves the *rich-get-richer effect* according to which a node's chance to acquire a new link is proportional to the number of links that node already has. Such an effect was described by [Merton (1968)](https://doi.org/10.1126/science.159.3810.56) for the accumulation of reward in the science systeme and termed the *Matthew Effect*, following the Gospel According to St. Matthew which says:\n",
    "\n",
    "> For unto every one that hath shall be given, and he shall have abundance: but from him that hath not shall be taken away even that which he hath.\n",
    "\n",
    "This effect generates power-law distributions of quantity. A related mechanism was first proposed by [Yule (1925)](https://doi.org/10.1098/rstb.1925.0002) to explain the structure of the tree of life. [Simon (1955)](https://doi.org/10.2307/2333389) studied another variant which he called the *Gibrat principle* to explain power-law distributions in society, biology, and the economy. [Price (1976)](https://doi.org/10.1002/asi.4630270505) mathematically introduced the first generator of directed networks with power-law indegree distributions and coined the term of a *cumulative advantage*.\n",
    "\n",
    "[Barabási & Albert (1999)](https://doi.org/10.1126/science.286.5439.509) discovered power-law effects in complex social and technological networks. Unaware of preceeding models, they introduced a model which formally combines network *growth* and *preferential attachment*, the latter being their term for the rich-get-richer mechanism, to generate undirected random networks with a power-law degree distribution. [Bollobás et al. (2001)](https://doi.org/10.1002/rsa.1009) proved that this mechanism genrates scale-free networks with $p(k)\\propto k^{-3}$, where $k$ is a node's degree (number of neighbors). The so-called BA Model remains one of the most fundamental network generators to date.\n",
    "\n",
    "In the BA Model, the oldest nodes will also turn out to have the largest degrees when the growth process is over. This clashes with the observation that, in reality, new nodes can be much more attractive that old nodes (e.g., the Google search engine is much more popular than the Yahoo search engine, even though the latter is much older). This caused [Bianconi & Barabási (2001)](https://doi.org/10.1209/epl/i2001-00260-6) to introduce a fitness parameter that amplifies or dampens the Matthew Effect.\n",
    "\n",
    "**In this notebook**, I provide an intuitive walk through the construction of the BA Model. In my code, target vertices are sampled using roulette wheel selection described below. I discuss the *Generalized BA Model* with a tunable attachment exponent $\\gamma$ and a fitness parameter $\\eta$. The probability of a new node to attach to an existing node $i$ is\n",
    "\n",
    "\\begin{equation}\n",
    "    \\Pi_i=\\frac{\\eta_i k_i^\\gamma}{\\sum_j{\\eta_j k_j^\\gamma}},\n",
    "\\end{equation}\n",
    "\n",
    "*i.e.*, it is proportional to a node's fitness $\\eta_i$ multiplied by its degree $k_i$ raised to the power of $\\gamma$. For the special case of $\\eta_i=1$, [Krapivsky *et al.* (2000)](https://doi.org/10.1103/PhysRevLett.85.4629) have demonstrated that the degree distribution $p(k)$ is a power law for $\\gamma=1$. For $0<\\gamma<1$ it takes the form of a stretched exponential. For $\\gamma>1$ very few nodes run away with all the new links and the generated networks are very star-like. For the special case of $\\gamma=1$, [Bianconi & Barabási (2001)](https://doi.org/10.1209/epl/i2001-00260-6) have found that $p(k)$ resembles a power law when $\\eta_i$ is distributed uniformly in $[0,1]$. It has a stretched-exponential form when $\\eta_i$ is normally distributed."
   ]
  },
  {
   "cell_type": "markdown",
   "metadata": {},
   "source": [
    "## Dependencies and Settings"
   ]
  },
  {
   "cell_type": "code",
   "execution_count": 10,
   "metadata": {},
   "outputs": [],
   "source": [
    "%matplotlib inline"
   ]
  },
  {
   "cell_type": "code",
   "execution_count": 11,
   "metadata": {},
   "outputs": [],
   "source": [
    "import networkx as nx\n",
    "import random as rd\n",
    "import matplotlib.pyplot as plt\n",
    "import warnings"
   ]
  },
  {
   "cell_type": "code",
   "execution_count": 12,
   "metadata": {},
   "outputs": [],
   "source": [
    "warnings.filterwarnings('ignore')"
   ]
  },
  {
   "cell_type": "markdown",
   "metadata": {},
   "source": [
    "## Model"
   ]
  },
  {
   "cell_type": "markdown",
   "metadata": {},
   "source": [
    "``ba_model()`` is the main function to generate a random network. ``n`` sets the size of the desired network and ``c`` is the attachment exponent $\\gamma$. ``G`` is an arbitrary graph that can be grown using these parameter settings. If a ``seed`` is given, the same network can reproduced with the same seed.\n",
    "\n",
    "If a graph is to be generated from scratch (line 4), an empty undirected graph object ``G`` is created (line 5), an edge is set among the initial two vertices (line 6), and the identifier ``source`` of the next vertex to be attached to ``G`` is set to 2 (line 7).\n",
    "\n",
    "If an existing graph ``G`` is to be grown (line 8), only ``source`` needs to be set (line 9).\n",
    "\n",
    "Now preferential attachment comes into play. While ``G`` has not reached its desired size ``n`` (line 10), a vertex ``target`` is sampled from ``G`` using the attachment parameter ``c`` by calling the function ``sample_target_vertex()`` (line 11). An edge is added between the existing target vertex and the new source vertex (line 12) and the next source is set (line 13)."
   ]
  },
  {
   "cell_type": "code",
   "execution_count": 4,
   "metadata": {},
   "outputs": [],
   "source": [
    "def ba_model_nx(n, c, G=None, Seed=None):\n",
    "    from random import seed\n",
    "    if Seed is not None:\n",
    "        seed(Seed)\n",
    "    from networkx import Graph\n",
    "    if G == None:\n",
    "        G = Graph()\n",
    "        G.add_edge(0, 1)\n",
    "        source = 2\n",
    "    else:\n",
    "        source = len(G)\n",
    "    from compsoc import sample_target_vertex\n",
    "    while source < n:\n",
    "        target = sample_target_vertex(c, G)\n",
    "        G.add_edge(target, source)\n",
    "        source += 1\n",
    "    return G"
   ]
  },
  {
   "cell_type": "markdown",
   "metadata": {},
   "source": [
    "``sample_target_vertex()`` samples a vertex from graph ``G`` proportional to that vertex's degree raised to the power of ``c``. *Roulette wheel selection* means that sampling can be imagined similar to a roulette wheel in a casino where a proportion of the wheel is assigned to each vertex. First all degrees are stored in a dictionary that contains vertex identifiers as keys and degrees as values (line 2). To assign proportions of the wheel to the vertices, the values in the dictionary are replaced by the cumulative degrees raised to the power of ``c`` (lines 3-5). Then the target vertex is sampled by calling the ``sample()`` function."
   ]
  },
  {
   "cell_type": "code",
   "execution_count": 5,
   "metadata": {},
   "outputs": [],
   "source": [
    "def sample_target_vertex(c, G):\n",
    "    d = dict(G.degree())\n",
    "    d[0] = d[0]**c\n",
    "    for i in range(1, len(d)):\n",
    "        d[i] = d[i-1]+d[i]**c\n",
    "    from compsoc import sample\n",
    "    target = sample(d)\n",
    "    return target"
   ]
  },
  {
   "cell_type": "markdown",
   "metadata": {},
   "source": [
    "``sample()`` returns a key (vertex identifier) from the input dictionary ``d``. This function resembles the ball coming to rest on the roulette wheel. First the proportion (value) of the wheel (dictionary) is randomly selected (line 2). If a seed has been set in the main ``ba_model()`` function, it will be used here. Then the key corresponding to the randomly selected value is identified (lines 3-5)."
   ]
  },
  {
   "cell_type": "code",
   "execution_count": 6,
   "metadata": {},
   "outputs": [],
   "source": [
    "def sample(d):\n",
    "    from random import random\n",
    "    r = random()*d[len(d)-1]\n",
    "    i = 0\n",
    "    while d[i] < r:\n",
    "        i += 1\n",
    "    return i"
   ]
  },
  {
   "cell_type": "markdown",
   "metadata": {},
   "source": [
    "These three functions are included in the ``compsoc`` library to be called in other notebooks."
   ]
  },
  {
   "cell_type": "markdown",
   "metadata": {},
   "source": [
    "## Results"
   ]
  },
  {
   "cell_type": "code",
   "execution_count": 19,
   "metadata": {},
   "outputs": [],
   "source": [
    "G = ba_model_nx(c=1.0, n=10, G=None, Seed=0)"
   ]
  },
  {
   "cell_type": "code",
   "execution_count": 20,
   "metadata": {},
   "outputs": [
    {
     "data": {
      "image/png": "[encoded data removed]",
      "text/plain": [
       "<Figure size 432x288 with 1 Axes>"
      ]
     },
     "metadata": {},
     "output_type": "display_data"
    }
   ],
   "source": [
    "nx.draw_spring(G, with_labels=True, node_size=200)"
   ]
  },
  {
   "cell_type": "markdown",
   "metadata": {},
   "source": [
    "### Degree Distribution"
   ]
  },
  {
   "cell_type": "code",
   "execution_count": 9,
   "metadata": {},
   "outputs": [],
   "source": [
    "k = [degree for (node, degree) in list(G.degree())]"
   ]
  },
  {
   "cell_type": "code",
   "execution_count": 10,
   "metadata": {},
   "outputs": [
    {
     "data": {
      "text/plain": [
       "(array([78., 12.,  6.,  1.,  1.,  0.,  0.,  0.,  1.,  1.]),\n",
       " array([ 1. ,  2.5,  4. ,  5.5,  7. ,  8.5, 10. , 11.5, 13. , 14.5, 16. ]),\n",
       " <a list of 10 Patch objects>)"
      ]
     },
     "execution_count": 10,
     "metadata": {},
     "output_type": "execute_result"
    },
    {
     "data": {
      "image/png": "[encoded data removed]",
      "text/plain": [
       "<Figure size 432x288 with 1 Axes>"
      ]
     },
     "metadata": {
      "needs_background": "light"
     },
     "output_type": "display_data"
    }
   ],
   "source": [
    "plt.hist(k)"
   ]
  },
  {
   "cell_type": "markdown",
   "metadata": {},
   "source": [
    "## Acknowledgement\n",
    "The code of this network generator is inspired by Nataša Kejžar's code for the feedback model."
   ]
  },
  {
   "cell_type": "markdown",
   "metadata": {},
   "source": [
    "## Literature\n",
    "Barabási, A.-L. & Albert, R. (1999). Emergence of scaling in random networks. *Science*, *286*(5439), 509–512. doi:[10.1126/science.286.5439.509](https://doi.org/10.1126/science.286.5439.509)\n",
    "\n",
    "Bianconi, G. & Barabási, A.-L. (2001). Competition and multiscaling in evolving networks. *EPL (Europhysics Letters)*, *54*(4), 436–442. doi:[10.1209/epl/i2001-00260-6](https://doi.org/10.1209/epl/i2001-00260-6)\n",
    "\n",
    "Bollobás, B., Riordan, O., Spencer, J., & Tusnády, G. (2001). The degree sequence of a scale‐free random graph process. *Random Structures & Algorithms*, *18*(3), 279–290. doi:[10.1002/rsa.1009](https://doi.org/10.1002/rsa.1009)\n",
    "\n",
    "Krapivsky, P. L., Redner, S., & Leyvraz, F. (2000). Connectivity of growing random networks. *Physical Review Letters*, *85*(21), 4629–4632. doi:[10.1103/PhysRevLett.85.4629](https://doi.org/10.1103/PhysRevLett.85.4629)\n",
    "\n",
    "Merton, R. K. (1968). The Matthew Effect in science. *Science*, *159*(3810), 56–63. doi:[10.1126/science.159.3810.56](https://doi.org/10.1126/science.159.3810.56)\n",
    "\n",
    "Price, D. J. d. S. (1976). A general theory of bibliometric and other cumulative advantage processes. *Journal of the American Society for Information Science*, *27*(5), 292–306. doi:[10.1002/asi.4630270505](https://doi.org/10.1002/asi.4630270505)\n",
    "\n",
    "Simon, H. A. (1955). On a class of skew distribution functions. *Biometrika*, *42*(3/4), 425–440. doi:[10.2307/2333389](https://doi.org/10.2307/2333389)\n",
    "\n",
    "Yule, G. U. (1925). A mathematical theory of evolution, based on the conclusions of Dr. J. C. Willis, F.R.S. *Philosophical Transactions of the Royal Society B*, *213*, 21–87. doi:[10.1098/rstb.1925.0002](https://doi.org/10.1098/rstb.1925.0002)"
   ]
  }
 ],
 "metadata": {
  "kernelspec": {
   "display_name": "Python 3",
   "language": "python",
   "name": "python3"
  },
  "language_info": {
   "codemirror_mode": {
    "name": "ipython",
    "version": 3
   },
   "file_extension": ".py",
   "mimetype": "text/x-python",
   "name": "python",
   "nbconvert_exporter": "python",
   "pygments_lexer": "ipython3",
   "version": "3.7.4"
  }
 },
 "nbformat": 4,
 "nbformat_minor": 2
}
